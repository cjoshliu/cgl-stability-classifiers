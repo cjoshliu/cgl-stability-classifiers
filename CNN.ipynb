{
 "cells": [
  {
   "cell_type": "markdown",
   "metadata": {},
   "source": [
    "## Simple CNN model"
   ]
  },
  {
   "cell_type": "code",
   "execution_count": 86,
   "metadata": {},
   "outputs": [],
   "source": [
    "import numpy as np\n",
    "from pathlib import Path\n",
    "import torch\n",
    "import torch.nn as nn\n",
    "import torch.optim as optim\n",
    "from torch.utils.data import TensorDataset, DataLoader"
   ]
  },
  {
   "cell_type": "code",
   "execution_count": 87,
   "metadata": {},
   "outputs": [],
   "source": [
    "class CNNsimple(nn.Module):\n",
    "    def __init__(self):\n",
    "        super(CNNsimple, self).__init__()\n",
    "        self.conv1 = nn.Conv2d(in_channels=2, out_channels=2, kernel_size=3, padding=1)\n",
    "        self.relu1 = nn.ReLU()\n",
    "        self.pool1 = nn.MaxPool2d(kernel_size=2, stride=2)\n",
    "        \n",
    "        self.conv2 = nn.Conv2d(in_channels=2, out_channels=2, kernel_size=3, padding=1)\n",
    "        self.relu2 = nn.ReLU()\n",
    "        self.pool2 = nn.MaxPool2d(kernel_size=2, stride=2)\n",
    "        \n",
    "        self.fc1 = nn.Linear(2 * 8 * 8, 16)\n",
    "        self.relu3 = nn.ReLU()\n",
    "        self.fc2 = nn.Linear(16, 1)\n",
    "        \n",
    "    def forward(self, x):\n",
    "        x = self.conv1(x)\n",
    "        x = self.relu1(x)\n",
    "        x = self.pool1(x)\n",
    "        \n",
    "        x = self.conv2(x)\n",
    "        x = self.relu2(x)\n",
    "        x = self.pool2(x)\n",
    "        \n",
    "        x = x.view(x.size(0), -1)\n",
    "        x = self.fc1(x)\n",
    "        x = self.relu3(x)\n",
    "        x = self.fc2(x)\n",
    "        return x"
   ]
  },
  {
   "cell_type": "code",
   "execution_count": 88,
   "metadata": {},
   "outputs": [],
   "source": [
    "def train_model(model, criterion, train_loader, validation_loader, optimizer, scheduler, epochs=30):\n",
    "    \n",
    "    for epoch in range(epochs):\n",
    "        model.train()\n",
    "        running_loss = 0.0\n",
    "        for inputs, labels in train_loader:\n",
    "\n",
    "            optimizer.zero_grad()\n",
    "            outputs = model(inputs)\n",
    "            loss = criterion(outputs, labels)\n",
    "            loss.backward()\n",
    "            optimizer.step()\n",
    "\n",
    "            running_loss += loss.item() * inputs.size(0)\n",
    "\n",
    "        scheduler.step()"
   ]
  },
  {
   "cell_type": "markdown",
   "metadata": {},
   "source": [
    "## Unmatched halves without hyperparameter tuning"
   ]
  },
  {
   "cell_type": "markdown",
   "metadata": {},
   "source": [
    "### Load data"
   ]
  },
  {
   "cell_type": "code",
   "execution_count": 95,
   "metadata": {},
   "outputs": [],
   "source": [
    "from dataloaders import SKLMatchedPairsCGL\n",
    "from evaluation import evaluate\n",
    "\n",
    "data0_dir = Path('data/b_0_c_1_dT_01_t_1e03/')\n",
    "data1_dir = Path('data/b_0_c_1_dT_01_t_1e04/')\n",
    "\n",
    "data = SKLMatchedPairsCGL(data0_dir, data1_dir, train_match='unmatched_halves', seed=1234)\n",
    "X_train, y_train, X_dev, y_dev, X_test, y_test = data.X_train, data.y_train, data.X_dev, data.y_dev, data.X_test, data.y_test\n",
    "X_train = X_train.reshape((6000, 2, 32, 32))\n",
    "X_dev = X_dev.reshape((2000, 2, 32, 32))\n",
    "X_test = X_test.reshape((2000, 2, 32, 32))\n",
    "\n",
    "X_train_tensor = torch.tensor(X_train, dtype=torch.float32)\n",
    "y_train_tensor = torch.tensor(y_train, dtype=torch.float32).unsqueeze(1)\n",
    "X_dev_tensor = torch.tensor(X_dev, dtype=torch.float32)\n",
    "y_dev_tensor = torch.tensor(y_dev, dtype=torch.float32).unsqueeze(1)\n",
    "X_test_tensor = torch.tensor(X_test, dtype=torch.float32)\n",
    "\n",
    "train_dataset = TensorDataset(X_train_tensor, y_train_tensor)\n",
    "validation_dataset = TensorDataset(X_dev_tensor, y_dev_tensor)\n",
    "train_loader = DataLoader(dataset=train_dataset, batch_size=64, shuffle=True)\n",
    "validation_loader = DataLoader(dataset=validation_dataset, batch_size=2000, shuffle=False)"
   ]
  },
  {
   "cell_type": "markdown",
   "metadata": {},
   "source": [
    "### Fit model and Evaluate"
   ]
  },
  {
   "cell_type": "code",
   "execution_count": 96,
   "metadata": {},
   "outputs": [
    {
     "name": "stdout",
     "output_type": "stream",
     "text": [
      "[{'accuracy': 0.6805, 'PPV': 0.6562770562770562, 'NPV': 0.7136094674556213, 'sensitivity': 0.758, 'specificity': 0.603, 'F-score': 0.7034802784222738}, {'accuracy': 0.5685, 'PPV': 0.6340508806262231, 'NPV': 0.5460040295500336, 'sensitivity': 0.324, 'specificity': 0.813, 'F-score': 0.42885506287227}, {'accuracy': 0.6665, 'PPV': 0.6611810261374637, 'NPV': 0.672182006204757, 'sensitivity': 0.683, 'specificity': 0.65, 'F-score': 0.6719134284308903}, {'accuracy': 0.6495, 'PPV': 0.6365296803652968, 'NPV': 0.6651933701657459, 'sensitivity': 0.697, 'specificity': 0.602, 'F-score': 0.6653937947494033}, {'accuracy': 0.682, 'PPV': 0.6627906976744186, 'NPV': 0.7063492063492064, 'sensitivity': 0.741, 'specificity': 0.623, 'F-score': 0.6997167138810199}]\n",
      "Mean Accuracy: 0.6494000000000001\n"
     ]
    }
   ],
   "source": [
    "runs = 5\n",
    "results = []\n",
    "\n",
    "for random_state in range(runs):\n",
    "    torch.manual_seed(random_state)\n",
    "    np.random.seed(random_state)\n",
    "    \n",
    "    model = CNNsimple()\n",
    "    criterion = nn.BCEWithLogitsLoss()\n",
    "    optimizer = optim.Adam(model.parameters(), lr=0.001)\n",
    "    scheduler = optim.lr_scheduler.StepLR(optimizer, step_size=10, gamma=0.1)\n",
    "    train_model(model, criterion, train_loader, validation_loader, optimizer, scheduler, epochs=50)\n",
    "    \n",
    "    model.eval()\n",
    "    with torch.no_grad():\n",
    "        y_preds = torch.sigmoid(model(X_test_tensor)) >= 0.5\n",
    "        y_preds = np.array(y_preds.squeeze())\n",
    "    eval_metrics = evaluate(y_preds,y_test)\n",
    "    results.append(eval_metrics)\n",
    "\n",
    "print(results)\n",
    "\n",
    "accuracies = [run['accuracy'] for run in results]\n",
    "mean_accuracy = sum(accuracies) / len(accuracies)\n",
    "print(f\"Mean Accuracy: {mean_accuracy}\")"
   ]
  },
  {
   "cell_type": "markdown",
   "metadata": {},
   "source": [
    "## Matched pairs without hyperparameter tuning"
   ]
  },
  {
   "cell_type": "markdown",
   "metadata": {},
   "source": [
    "### Load data"
   ]
  },
  {
   "cell_type": "code",
   "execution_count": 97,
   "metadata": {},
   "outputs": [],
   "source": [
    "from dataloaders import SKLMatchedPairsCGL\n",
    "from evaluation import evaluate\n",
    "\n",
    "data0_dir = Path('data/b_0_c_1_dT_01_t_1e03/')\n",
    "data1_dir = Path('data/b_0_c_1_dT_01_t_1e04/')\n",
    "\n",
    "data = SKLMatchedPairsCGL(data0_dir, data1_dir, train_match='half_matches', seed=1234)\n",
    "X_train, y_train, X_dev, y_dev, X_test, y_test = data.X_train, data.y_train, data.X_dev, data.y_dev, data.X_test, data.y_test\n",
    "X_train = X_train.reshape((6000, 2, 32, 32))\n",
    "X_dev = X_dev.reshape((2000, 2, 32, 32))\n",
    "X_test = X_test.reshape((2000, 2, 32, 32))\n",
    "\n",
    "X_train_tensor = torch.tensor(X_train, dtype=torch.float32)\n",
    "y_train_tensor = torch.tensor(y_train, dtype=torch.float32).unsqueeze(1)\n",
    "X_dev_tensor = torch.tensor(X_dev, dtype=torch.float32)\n",
    "y_dev_tensor = torch.tensor(y_dev, dtype=torch.float32).unsqueeze(1)\n",
    "X_test_tensor = torch.tensor(X_test, dtype=torch.float32)\n",
    "\n",
    "train_dataset = TensorDataset(X_train_tensor, y_train_tensor)\n",
    "validation_dataset = TensorDataset(X_dev_tensor, y_dev_tensor)\n",
    "train_loader = DataLoader(dataset=train_dataset, batch_size=64, shuffle=True)\n",
    "validation_loader = DataLoader(dataset=validation_dataset, batch_size=2000, shuffle=False)"
   ]
  },
  {
   "cell_type": "markdown",
   "metadata": {},
   "source": [
    "### Fit model and Evaluate"
   ]
  },
  {
   "cell_type": "code",
   "execution_count": 98,
   "metadata": {},
   "outputs": [
    {
     "name": "stdout",
     "output_type": "stream",
     "text": [
      "[{'accuracy': 0.69, 'PPV': 0.668141592920354, 'NPV': 0.7183908045977011, 'sensitivity': 0.755, 'specificity': 0.625, 'F-score': 0.7089201877934272}, {'accuracy': 0.677, 'PPV': 0.6644981412639405, 'NPV': 0.6915584415584416, 'sensitivity': 0.715, 'specificity': 0.639, 'F-score': 0.6888246628131021}, {'accuracy': 0.6585, 'PPV': 0.6519654841802492, 'NPV': 0.6656217345872518, 'sensitivity': 0.68, 'specificity': 0.637, 'F-score': 0.6656877141458639}, {'accuracy': 0.6585, 'PPV': 0.6360515021459228, 'NPV': 0.6898203592814371, 'sensitivity': 0.741, 'specificity': 0.576, 'F-score': 0.684526558891455}, {'accuracy': 0.6815, 'PPV': 0.6645512239347234, 'NPV': 0.7023411371237458, 'sensitivity': 0.733, 'specificity': 0.63, 'F-score': 0.6970993818354732}]\n",
      "Mean Accuracy: 0.6731\n"
     ]
    }
   ],
   "source": [
    "runs = 5\n",
    "results = []\n",
    "\n",
    "for random_state in range(runs):\n",
    "    torch.manual_seed(random_state)\n",
    "    np.random.seed(random_state)\n",
    "    \n",
    "    model = CNNsimple()\n",
    "    criterion = nn.BCEWithLogitsLoss()\n",
    "    optimizer = optim.Adam(model.parameters(), lr=0.001)\n",
    "    scheduler = optim.lr_scheduler.StepLR(optimizer, step_size=10, gamma=0.1)\n",
    "    train_model(model, criterion, train_loader, validation_loader, optimizer, scheduler, epochs=50)\n",
    "    \n",
    "    model.eval()\n",
    "    with torch.no_grad():\n",
    "        y_preds = torch.sigmoid(model(X_test_tensor)) >= 0.5\n",
    "        y_preds = np.array(y_preds.squeeze())\n",
    "    eval_metrics = evaluate(y_preds,y_test)\n",
    "    results.append(eval_metrics)\n",
    "\n",
    "print(results)\n",
    "\n",
    "accuracies = [run['accuracy'] for run in results]\n",
    "mean_accuracy = sum(accuracies) / len(accuracies)\n",
    "print(f\"Mean Accuracy: {mean_accuracy}\")"
   ]
  },
  {
   "cell_type": "markdown",
   "metadata": {},
   "source": [
    "## All matched pairs"
   ]
  },
  {
   "cell_type": "markdown",
   "metadata": {},
   "source": [
    "### Load data"
   ]
  },
  {
   "cell_type": "code",
   "execution_count": 99,
   "metadata": {},
   "outputs": [],
   "source": [
    "from dataloaders import SKLMatchedPairsCGL\n",
    "from evaluation import evaluate\n",
    "\n",
    "data0_dir = Path('data/b_0_c_1_dT_01_t_1e03/')\n",
    "data1_dir = Path('data/b_0_c_1_dT_01_t_1e04/')\n",
    "\n",
    "data = SKLMatchedPairsCGL(data0_dir, data1_dir, train_match='all_matches', seed=1234)\n",
    "X_train, y_train, X_dev, y_dev, X_test, y_test = data.X_train, data.y_train, data.X_dev, data.y_dev, data.X_test, data.y_test\n",
    "X_train = X_train.reshape((12000, 2, 32, 32))\n",
    "X_dev = X_dev.reshape((2000, 2, 32, 32))\n",
    "X_test = X_test.reshape((2000, 2, 32, 32))\n",
    "\n",
    "X_train_tensor = torch.tensor(X_train, dtype=torch.float32)\n",
    "y_train_tensor = torch.tensor(y_train, dtype=torch.float32).unsqueeze(1)\n",
    "X_dev_tensor = torch.tensor(X_dev, dtype=torch.float32)\n",
    "y_dev_tensor = torch.tensor(y_dev, dtype=torch.float32).unsqueeze(1)\n",
    "X_test_tensor = torch.tensor(X_test, dtype=torch.float32)\n",
    "\n",
    "train_dataset = TensorDataset(X_train_tensor, y_train_tensor)\n",
    "validation_dataset = TensorDataset(X_dev_tensor, y_dev_tensor)\n",
    "train_loader = DataLoader(dataset=train_dataset, batch_size=64, shuffle=True)\n",
    "validation_loader = DataLoader(dataset=validation_dataset, batch_size=2000, shuffle=False)"
   ]
  },
  {
   "cell_type": "markdown",
   "metadata": {},
   "source": [
    "### Fit model and Evaluate"
   ]
  },
  {
   "cell_type": "code",
   "execution_count": 100,
   "metadata": {},
   "outputs": [
    {
     "name": "stdout",
     "output_type": "stream",
     "text": [
      "[{'accuracy': 0.649, 'PPV': 0.618066561014263, 'NPV': 0.7018970189701897, 'sensitivity': 0.78, 'specificity': 0.518, 'F-score': 0.6896551724137931}, {'accuracy': 0.639, 'PPV': 0.743859649122807, 'NPV': 0.5972027972027972, 'sensitivity': 0.424, 'specificity': 0.854, 'F-score': 0.5401273885350318}, {'accuracy': 0.6855, 'PPV': 0.6738519212746017, 'NPV': 0.6988210075026795, 'sensitivity': 0.719, 'specificity': 0.652, 'F-score': 0.6956942428640541}, {'accuracy': 0.73, 'PPV': 0.697934595524957, 'NPV': 0.7744630071599046, 'sensitivity': 0.811, 'specificity': 0.649, 'F-score': 0.750231267345051}, {'accuracy': 0.7455, 'PPV': 0.739980449657869, 'NPV': 0.7512794268167861, 'sensitivity': 0.757, 'specificity': 0.734, 'F-score': 0.7483934750370737}]\n",
      "Mean Accuracy: 0.6898\n"
     ]
    }
   ],
   "source": [
    "runs = 5\n",
    "results = []\n",
    "\n",
    "for random_state in range(runs):\n",
    "    torch.manual_seed(random_state)\n",
    "    np.random.seed(random_state)\n",
    "    \n",
    "    model = CNNsimple()\n",
    "    criterion = nn.BCEWithLogitsLoss()\n",
    "    optimizer = optim.Adam(model.parameters(), lr=0.001)\n",
    "    scheduler = optim.lr_scheduler.StepLR(optimizer, step_size=10, gamma=0.1)\n",
    "    train_model(model, criterion, train_loader, validation_loader, optimizer, scheduler, epochs=50)\n",
    "    \n",
    "    model.eval()\n",
    "    with torch.no_grad():\n",
    "        y_preds = torch.sigmoid(model(X_test_tensor)) >= 0.5\n",
    "        y_preds = np.array(y_preds.squeeze())\n",
    "    eval_metrics = evaluate(y_preds,y_test)\n",
    "    results.append(eval_metrics)\n",
    "\n",
    "print(results)\n",
    "\n",
    "accuracies = [run['accuracy'] for run in results]\n",
    "mean_accuracy = sum(accuracies) / len(accuracies)\n",
    "print(f\"Mean Accuracy: {mean_accuracy}\")"
   ]
  },
  {
   "cell_type": "markdown",
   "metadata": {},
   "source": [
    "## Parameter tuning"
   ]
  },
  {
   "cell_type": "markdown",
   "metadata": {},
   "source": [
    "### Model Construction"
   ]
  },
  {
   "cell_type": "code",
   "execution_count": 1,
   "metadata": {},
   "outputs": [],
   "source": [
    "import torch\n",
    "import torch.nn as nn\n",
    "\n",
    "class CNN(nn.Module):\n",
    "    def __init__(self, conv_layers, kernel_size, fc_neurons, use_batchnorm=False):\n",
    "        super(CNN, self).__init__()\n",
    "        layers = []\n",
    "        in_channels = 2\n",
    "\n",
    "        for _, out_channels in enumerate(conv_layers):\n",
    "            conv = nn.Conv2d(in_channels, out_channels, kernel_size=kernel_size, padding=kernel_size//2)\n",
    "            layers.append(conv)\n",
    "            if use_batchnorm:\n",
    "                layers.append(nn.BatchNorm2d(out_channels))\n",
    "            layers.append(nn.ReLU())\n",
    "            layers.append(nn.MaxPool2d(kernel_size=2, stride=2))\n",
    "            in_channels = out_channels\n",
    "\n",
    "        self.conv = nn.Sequential(*layers)\n",
    "\n",
    "        num_pools = len(conv_layers)\n",
    "        spatial_size = 32 // (2 ** num_pools)\n",
    "        self.flatten_size = conv_layers[-1] * spatial_size * spatial_size\n",
    "\n",
    "        self.fc = nn.Sequential(\n",
    "            nn.Linear(self.flatten_size, fc_neurons),\n",
    "            nn.ReLU(),\n",
    "            nn.Linear(fc_neurons, 1)\n",
    "        )\n",
    "\n",
    "    def forward(self, x):\n",
    "        x = self.conv(x)\n",
    "        x = x.view(-1, self.flatten_size)\n",
    "        x = self.fc(x)\n",
    "        return x\n"
   ]
  },
  {
   "cell_type": "markdown",
   "metadata": {},
   "source": [
    "### train model"
   ]
  },
  {
   "cell_type": "code",
   "execution_count": null,
   "metadata": {},
   "outputs": [],
   "source": [
    "def train_model(model, criterion, train_loader, validation_loader, optimizer, scheduler, epochs=50):\n",
    "\n",
    "    for epoch in range(epochs):\n",
    "        model.train()\n",
    "        running_loss = 0.0\n",
    "        for inputs, labels in train_loader:\n",
    "\n",
    "            optimizer.zero_grad()\n",
    "            outputs = model(inputs)\n",
    "            loss = criterion(outputs, labels)\n",
    "            loss.backward()\n",
    "            optimizer.step()\n",
    "\n",
    "            running_loss += loss.item() * inputs.size(0)\n",
    "\n",
    "        scheduler.step()"
   ]
  },
  {
   "cell_type": "markdown",
   "metadata": {},
   "source": [
    "### load data"
   ]
  },
  {
   "cell_type": "code",
   "execution_count": 3,
   "metadata": {},
   "outputs": [],
   "source": [
    "from dataloaders import SKLMatchedPairsCGL\n",
    "from evaluation import evaluate\n",
    "from pathlib import Path\n",
    "from torch.utils.data import DataLoader, TensorDataset\n",
    "\n",
    "data0_dir = Path('data/b_0_c_1_dT_01_t_1e03/')\n",
    "data1_dir = Path('data/b_0_c_1_dT_01_t_1e04/')\n",
    "\n",
    "data = SKLMatchedPairsCGL(data0_dir, data1_dir, train_match='unmatched_halves', seed=1234)\n",
    "X_train, y_train, X_dev, y_dev, X_test, y_test = data.X_train, data.y_train, data.X_dev, data.y_dev, data.X_test, data.y_test\n",
    "X_train = X_train.reshape((6000, 2, 32, 32))\n",
    "X_dev = X_dev.reshape((2000, 2, 32, 32))\n",
    "X_test = X_test.reshape((2000, 2, 32, 32))\n",
    "\n",
    "X_train_tensor = torch.tensor(X_train, dtype=torch.float32)\n",
    "y_train_tensor = torch.tensor(y_train, dtype=torch.float32).unsqueeze(1)\n",
    "X_dev_tensor = torch.tensor(X_dev, dtype=torch.float32)\n",
    "y_dev_tensor = torch.tensor(y_dev, dtype=torch.float32).unsqueeze(1)\n",
    "X_test_tensor = torch.tensor(X_test, dtype=torch.float32)\n",
    "\n",
    "train_dataset = TensorDataset(X_train_tensor, y_train_tensor)\n",
    "validation_dataset = TensorDataset(X_dev_tensor, y_dev_tensor)\n",
    "train_loader = DataLoader(dataset=train_dataset, batch_size=64, shuffle=True)\n",
    "validation_loader = DataLoader(dataset=validation_dataset, batch_size=2000, shuffle=False)"
   ]
  },
  {
   "cell_type": "markdown",
   "metadata": {},
   "source": [
    "### iterate through hyperparameter combinations"
   ]
  },
  {
   "cell_type": "code",
   "execution_count": null,
   "metadata": {},
   "outputs": [
    {
     "name": "stdout",
     "output_type": "stream",
     "text": [
      "Total hyperparameter combinations: 108\n"
     ]
    },
    {
     "name": "stderr",
     "output_type": "stream",
     "text": [
      "Hyperparameter Set 1/108:  75%|███████▌  | 3/4 [01:10<00:23, 23.25s/it]/Users/wenj/cgl-stability-classifiers/evaluation.py:28: RuntimeWarning: invalid value encountered in long_scalars\n",
      "  eval_metrics['PPV'] = confusion[1, 1]/np.sum(confusion[1])\n",
      "/Users/wenj/cgl-stability-classifiers/evaluation.py:32: RuntimeWarning: divide by zero encountered in double_scalars\n",
      "  eval_metrics['F-score'] = 2.0/(1.0/eval_metrics['PPV']+1.0/eval_metrics['sensitivity'])\n",
      "Hyperparameter Set 1/108: 100%|██████████| 4/4 [01:32<00:00, 23.23s/it]\n",
      "Hyperparameter Set 2/108: 100%|██████████| 4/4 [01:28<00:00, 22.08s/it]\n",
      "Hyperparameter Set 3/108: 100%|██████████| 4/4 [01:29<00:00, 22.28s/it]\n",
      "Hyperparameter Set 4/108:   0%|          | 0/4 [00:00<?, ?it/s]/Users/wenj/cgl-stability-classifiers/evaluation.py:29: RuntimeWarning: invalid value encountered in long_scalars\n",
      "  eval_metrics['NPV'] = confusion[0, 0]/np.sum(confusion[0])\n",
      "Hyperparameter Set 4/108: 100%|██████████| 4/4 [01:19<00:00, 19.76s/it]\n",
      "Hyperparameter Set 5/108: 100%|██████████| 4/4 [01:19<00:00, 19.91s/it]\n",
      "Hyperparameter Set 6/108: 100%|██████████| 4/4 [01:28<00:00, 22.23s/it]\n",
      "Hyperparameter Set 7/108: 100%|██████████| 4/4 [02:07<00:00, 31.92s/it]\n",
      "Hyperparameter Set 8/108: 100%|██████████| 4/4 [02:07<00:00, 31.92s/it]\n",
      "Hyperparameter Set 9/108: 100%|██████████| 4/4 [02:17<00:00, 34.30s/it]\n",
      "Hyperparameter Set 10/108: 100%|██████████| 4/4 [02:11<00:00, 32.94s/it]\n",
      "Hyperparameter Set 11/108: 100%|██████████| 4/4 [02:08<00:00, 32.16s/it]\n",
      "Hyperparameter Set 12/108: 100%|██████████| 4/4 [02:29<00:00, 37.50s/it]\n",
      "Hyperparameter Set 13/108: 100%|██████████| 4/4 [04:55<00:00, 73.83s/it]\n",
      "Hyperparameter Set 14/108: 100%|██████████| 4/4 [04:26<00:00, 66.74s/it]\n",
      "Hyperparameter Set 15/108: 100%|██████████| 4/4 [04:29<00:00, 67.44s/it]\n",
      "Hyperparameter Set 16/108: 100%|██████████| 4/4 [04:37<00:00, 69.35s/it]\n",
      "Hyperparameter Set 17/108: 100%|██████████| 4/4 [04:35<00:00, 68.77s/it]\n",
      "Hyperparameter Set 18/108: 100%|██████████| 4/4 [04:44<00:00, 71.19s/it]\n",
      "Hyperparameter Set 19/108: 100%|██████████| 4/4 [01:56<00:00, 29.11s/it]\n",
      "Hyperparameter Set 20/108: 100%|██████████| 4/4 [01:48<00:00, 27.01s/it]\n",
      "Hyperparameter Set 21/108: 100%|██████████| 4/4 [01:54<00:00, 28.70s/it]\n",
      "Hyperparameter Set 22/108: 100%|██████████| 4/4 [01:36<00:00, 24.19s/it]\n",
      "Hyperparameter Set 23/108: 100%|██████████| 4/4 [01:38<00:00, 24.58s/it]\n",
      "Hyperparameter Set 24/108: 100%|██████████| 4/4 [01:39<00:00, 24.99s/it]\n",
      "Hyperparameter Set 25/108: 100%|██████████| 4/4 [02:29<00:00, 37.27s/it]\n",
      "Hyperparameter Set 26/108: 100%|██████████| 4/4 [02:26<00:00, 36.67s/it]\n",
      "Hyperparameter Set 27/108: 100%|██████████| 4/4 [02:28<00:00, 37.05s/it]\n",
      "Hyperparameter Set 28/108: 100%|██████████| 4/4 [02:13<00:00, 33.39s/it]\n",
      "Hyperparameter Set 29/108: 100%|██████████| 4/4 [02:14<00:00, 33.62s/it]\n",
      "Hyperparameter Set 30/108: 100%|██████████| 4/4 [02:17<00:00, 34.28s/it]\n",
      "Hyperparameter Set 31/108: 100%|██████████| 4/4 [04:58<00:00, 74.75s/it]\n",
      "Hyperparameter Set 32/108: 100%|██████████| 4/4 [04:47<00:00, 71.76s/it]\n",
      "Hyperparameter Set 33/108: 100%|██████████| 4/4 [04:49<00:00, 72.45s/it]\n",
      "Hyperparameter Set 34/108: 100%|██████████| 4/4 [04:52<00:00, 73.05s/it]\n",
      "Hyperparameter Set 35/108: 100%|██████████| 4/4 [05:26<00:00, 81.51s/it]\n",
      "Hyperparameter Set 36/108: 100%|██████████| 4/4 [04:40<00:00, 70.06s/it]\n",
      "Hyperparameter Set 37/108: 100%|██████████| 4/4 [02:46<00:00, 41.63s/it]\n",
      "Hyperparameter Set 38/108: 100%|██████████| 4/4 [02:49<00:00, 42.44s/it]\n",
      "Hyperparameter Set 39/108: 100%|██████████| 4/4 [02:53<00:00, 43.40s/it]\n",
      "Hyperparameter Set 40/108: 100%|██████████| 4/4 [02:24<00:00, 36.10s/it]\n",
      "Hyperparameter Set 41/108: 100%|██████████| 4/4 [02:23<00:00, 35.86s/it]\n",
      "Hyperparameter Set 42/108: 100%|██████████| 4/4 [02:23<00:00, 35.99s/it]\n",
      "Hyperparameter Set 43/108: 100%|██████████| 4/4 [04:41<00:00, 70.40s/it]\n",
      "Hyperparameter Set 44/108: 100%|██████████| 4/4 [04:34<00:00, 68.59s/it]\n",
      "Hyperparameter Set 45/108: 100%|██████████| 4/4 [04:26<00:00, 66.54s/it]\n",
      "Hyperparameter Set 46/108: 100%|██████████| 4/4 [03:57<00:00, 59.48s/it]\n",
      "Hyperparameter Set 47/108: 100%|██████████| 4/4 [04:04<00:00, 61.10s/it]\n",
      "Hyperparameter Set 48/108: 100%|██████████| 4/4 [03:58<00:00, 59.56s/it]\n",
      "Hyperparameter Set 49/108: 100%|██████████| 4/4 [10:45<00:00, 161.30s/it]\n",
      "Hyperparameter Set 50/108: 100%|██████████| 4/4 [11:15<00:00, 168.89s/it]\n",
      "Hyperparameter Set 51/108: 100%|██████████| 4/4 [11:24<00:00, 171.21s/it]\n",
      "Hyperparameter Set 52/108: 100%|██████████| 4/4 [10:19<00:00, 154.90s/it]\n",
      "Hyperparameter Set 53/108: 100%|██████████| 4/4 [10:24<00:00, 156.17s/it]\n",
      "Hyperparameter Set 54/108: 100%|██████████| 4/4 [10:15<00:00, 153.76s/it]\n",
      "Hyperparameter Set 55/108: 100%|██████████| 4/4 [07:04<00:00, 106.20s/it]\n",
      "Hyperparameter Set 56/108: 100%|██████████| 4/4 [07:20<00:00, 110.15s/it]\n",
      "Hyperparameter Set 57/108: 100%|██████████| 4/4 [07:10<00:00, 107.51s/it]\n",
      "Hyperparameter Set 58/108: 100%|██████████| 4/4 [06:37<00:00, 99.44s/it] \n",
      "Hyperparameter Set 59/108: 100%|██████████| 4/4 [06:26<00:00, 96.71s/it]\n",
      "Hyperparameter Set 60/108: 100%|██████████| 4/4 [06:25<00:00, 96.39s/it]\n",
      "Hyperparameter Set 61/108: 100%|██████████| 4/4 [12:46<00:00, 191.66s/it]\n",
      "Hyperparameter Set 62/108: 100%|██████████| 4/4 [12:44<00:00, 191.14s/it]\n",
      "Hyperparameter Set 63/108: 100%|██████████| 4/4 [13:01<00:00, 195.33s/it]\n",
      "Hyperparameter Set 64/108: 100%|██████████| 4/4 [12:20<00:00, 185.17s/it]\n",
      "Hyperparameter Set 65/108: 100%|██████████| 4/4 [12:04<00:00, 181.21s/it]\n",
      "Hyperparameter Set 66/108: 100%|██████████| 4/4 [12:10<00:00, 182.51s/it]\n",
      "Hyperparameter Set 67/108: 100%|██████████| 4/4 [37:00<00:00, 555.19s/it]\n",
      "Hyperparameter Set 68/108: 100%|██████████| 4/4 [36:37<00:00, 549.40s/it]\n",
      "Hyperparameter Set 69/108: 100%|██████████| 4/4 [37:03<00:00, 555.90s/it]\n",
      "Hyperparameter Set 70/108: 100%|██████████| 4/4 [36:04<00:00, 541.05s/it]\n",
      "Hyperparameter Set 71/108: 100%|██████████| 4/4 [36:18<00:00, 544.58s/it]\n",
      "Hyperparameter Set 72/108: 100%|██████████| 4/4 [36:20<00:00, 545.16s/it]\n",
      "Hyperparameter Set 73/108: 100%|██████████| 4/4 [04:06<00:00, 61.71s/it]\n",
      "Hyperparameter Set 74/108: 100%|██████████| 4/4 [04:12<00:00, 63.08s/it]\n",
      "Hyperparameter Set 75/108: 100%|██████████| 4/4 [04:15<00:00, 63.83s/it]\n",
      "Hyperparameter Set 76/108: 100%|██████████| 4/4 [03:30<00:00, 52.64s/it]\n",
      "Hyperparameter Set 77/108: 100%|██████████| 4/4 [03:34<00:00, 53.52s/it]\n",
      "Hyperparameter Set 78/108: 100%|██████████| 4/4 [03:36<00:00, 54.09s/it]\n",
      "Hyperparameter Set 79/108: 100%|██████████| 4/4 [06:12<00:00, 93.13s/it]\n",
      "Hyperparameter Set 80/108: 100%|██████████| 4/4 [06:15<00:00, 93.95s/it]\n",
      "Hyperparameter Set 81/108: 100%|██████████| 4/4 [06:17<00:00, 94.42s/it]\n",
      "Hyperparameter Set 82/108: 100%|██████████| 4/4 [05:38<00:00, 84.66s/it]\n",
      "Hyperparameter Set 83/108: 100%|██████████| 4/4 [05:57<00:00, 89.36s/it]\n",
      "Hyperparameter Set 84/108: 100%|██████████| 4/4 [05:36<00:00, 84.12s/it]\n",
      "Hyperparameter Set 85/108: 100%|██████████| 4/4 [12:29<00:00, 187.47s/it]\n",
      "Hyperparameter Set 86/108: 100%|██████████| 4/4 [12:20<00:00, 185.18s/it]\n",
      "Hyperparameter Set 87/108: 100%|██████████| 4/4 [13:38<00:00, 204.70s/it]\n",
      "Hyperparameter Set 88/108: 100%|██████████| 4/4 [11:44<00:00, 176.24s/it]\n",
      "Hyperparameter Set 89/108: 100%|██████████| 4/4 [12:05<00:00, 181.28s/it]\n",
      "Hyperparameter Set 90/108: 100%|██████████| 4/4 [16:44<00:00, 251.17s/it]\n",
      "Hyperparameter Set 91/108: 100%|██████████| 4/4 [08:52<00:00, 133.08s/it]\n",
      "Hyperparameter Set 92/108: 100%|██████████| 4/4 [02:49<00:00, 42.36s/it]\n",
      "Hyperparameter Set 93/108: 100%|██████████| 4/4 [02:46<00:00, 41.59s/it]\n",
      "Hyperparameter Set 94/108: 100%|██████████| 4/4 [02:18<00:00, 34.56s/it]\n",
      "Hyperparameter Set 95/108: 100%|██████████| 4/4 [02:22<00:00, 35.59s/it]\n",
      "Hyperparameter Set 96/108: 100%|██████████| 4/4 [02:30<00:00, 37.67s/it]\n",
      "Hyperparameter Set 97/108: 100%|██████████| 4/4 [03:54<00:00, 58.73s/it]\n",
      "Hyperparameter Set 98/108: 100%|██████████| 4/4 [04:41<00:00, 70.34s/it]\n",
      "Hyperparameter Set 99/108: 100%|██████████| 4/4 [04:22<00:00, 65.75s/it]\n",
      "Hyperparameter Set 100/108: 100%|██████████| 4/4 [03:46<00:00, 56.61s/it]\n",
      "Hyperparameter Set 101/108: 100%|██████████| 4/4 [03:52<00:00, 58.20s/it]\n",
      "Hyperparameter Set 102/108: 100%|██████████| 4/4 [03:59<00:00, 59.83s/it]\n",
      "Hyperparameter Set 103/108: 100%|██████████| 4/4 [08:29<00:00, 127.44s/it]\n",
      "Hyperparameter Set 104/108: 100%|██████████| 4/4 [07:44<00:00, 116.22s/it]\n",
      "Hyperparameter Set 105/108: 100%|██████████| 4/4 [08:17<00:00, 124.39s/it]\n",
      "Hyperparameter Set 106/108: 100%|██████████| 4/4 [07:47<00:00, 116.97s/it]\n",
      "Hyperparameter Set 107/108: 100%|██████████| 4/4 [07:50<00:00, 117.71s/it]\n",
      "Hyperparameter Set 108/108: 100%|██████████| 4/4 [27:49<00:00, 417.50s/it]\n"
     ]
    }
   ],
   "source": [
    "import itertools\n",
    "import torch\n",
    "import torch.nn as nn\n",
    "import torch.optim as optim\n",
    "import numpy as np\n",
    "from tqdm import tqdm\n",
    "\n",
    "runs = 4\n",
    "conv_options = [[2, 2], [2, 8], [8, 2], [32, 8], [8, 32], [2, 8, 32]]\n",
    "kernel_size_options = [2, 4, 8]\n",
    "normalization_options = [True, False]\n",
    "fc_neurons_options = [2, 8, 32]\n",
    "\n",
    "\n",
    "hyperparameter_combinations = list(itertools.product(\n",
    "    conv_options, kernel_size_options, normalization_options, fc_neurons_options))\n",
    "print(f\"Total hyperparameter combinations: {len(hyperparameter_combinations)}\")\n",
    "\n",
    "results = []\n",
    "for idx, (conv_layers, kernel_size, use_batchnorm, fc_neurons) in enumerate(hyperparameter_combinations):\n",
    "    for run in tqdm(range(runs), desc=f\"Hyperparameter Set {idx+1}/{len(hyperparameter_combinations)}\"):\n",
    "\n",
    "        random_state = run\n",
    "        torch.manual_seed(random_state)\n",
    "        np.random.seed(random_state)\n",
    "        \n",
    "        model = CNN(conv_layers=conv_layers,\n",
    "                    kernel_size=kernel_size,\n",
    "                    fc_neurons=fc_neurons,\n",
    "                    use_batchnorm=use_batchnorm)\n",
    "        criterion = nn.BCEWithLogitsLoss()\n",
    "        optimizer = optim.Adam(model.parameters(), lr=0.001)\n",
    "        scheduler = optim.lr_scheduler.StepLR(optimizer, step_size=10, gamma=0.1)\n",
    "        train_model(model, criterion, train_loader, validation_loader, optimizer, scheduler, epochs=50)\n",
    "        \n",
    "        model.eval()\n",
    "        with torch.no_grad():\n",
    "            y_preds = torch.sigmoid(model(X_test_tensor)) >= 0.5\n",
    "            y_preds = np.array(y_preds.squeeze())\n",
    "            eval_metrics = evaluate(y_preds, y_test)\n",
    "\n",
    "        results.append({\n",
    "            'conv_layers': str(conv_layers),\n",
    "            'kernel_size': kernel_size,\n",
    "            'use_batchnorm': use_batchnorm,\n",
    "            'fc_neurons': fc_neurons,\n",
    "            'run': run,\n",
    "            **eval_metrics\n",
    "        })\n",
    "\n"
   ]
  },
  {
   "cell_type": "markdown",
   "metadata": {},
   "source": [
    "### plot the results"
   ]
  },
  {
   "cell_type": "code",
   "execution_count": null,
   "metadata": {},
   "outputs": [],
   "source": [
    "import pandas as pd\n",
    "import numpy as np\n",
    "import seaborn as sns\n",
    "import matplotlib.pyplot as plt\n",
    "\n",
    "metrics_df = pd.DataFrame(results)\n",
    "metrics_df.to_csv('CNN.csv', index=False)\n",
    "\n",
    "unique_conv_layers = metrics_df['conv_layers'].unique()\n",
    "unique_use_batchnorm = metrics_df['use_batchnorm'].unique()\n",
    "\n",
    "n_conv_layers = len(unique_conv_layers)\n",
    "n_batchnorm = len(unique_use_batchnorm)\n",
    "fig, axes = plt.subplots(nrows = n_batchnorm, ncols = n_conv_layers, figsize = ( n_conv_layers * 6, n_batchnorm * 5) )\n",
    "\n",
    "vmin = metrics_df['accuracy'].min()\n",
    "vmax = metrics_df['accuracy'].max()\n",
    "\n",
    "for i, batchnorm in enumerate(unique_use_batchnorm):\n",
    "    for j, conv_layer in enumerate(unique_conv_layers):\n",
    "        subset_df = metrics_df[ (metrics_df['conv_layers'] == conv_layer) & (metrics_df['use_batchnorm'] == batchnorm)]\n",
    "\n",
    "        grouped = subset_df.groupby(['kernel_size', 'fc_neurons'])['accuracy'].agg(['mean', 'std'])\n",
    "        mean_df = grouped.reset_index().pivot(index='kernel_size', columns='fc_neurons', values='mean')\n",
    "        std_df = grouped.reset_index().pivot(index='kernel_size', columns='fc_neurons', values='std')\n",
    "\n",
    "        annotations = mean_df.copy().astype(str)\n",
    "        for ks in mean_df.index:\n",
    "            for fc in mean_df.columns:\n",
    "                mean_val = mean_df.loc[ks, fc]\n",
    "                std_val = std_df.loc[ks, fc]\n",
    "                if not np.isnan(mean_val):\n",
    "                    annotations.loc[ks, fc] = f\"{mean_val:.2f}±{std_val:.2f}\"\n",
    "                else:\n",
    "                    annotations.loc[ks, fc] = ''\n",
    "\n",
    "        ax = axes[i, j]\n",
    "        sns.heatmap(data = mean_df.astype(float), vmin = vmin, vmax = vmax, annot = annotations, fmt = '',\n",
    "                    cmap = 'viridis', ax = ax, cbar = True, cbar_kws = {\"label\": 'accuracy'})\n",
    "        ax.set_title(f'Accuracy\\nConv Layers: {conv_layer}, BatchNorm: {batchnorm}')\n",
    "        ax.set_xlabel('Fully Connected Neurons')\n",
    "        ax.set_ylabel('Kernel Size')\n",
    "\n",
    "plt.tight_layout()\n",
    "plt.show()\n"
   ]
  },
  {
   "cell_type": "markdown",
   "metadata": {},
   "source": [
    "## Train final model and interpret"
   ]
  },
  {
   "cell_type": "code",
   "execution_count": 40,
   "metadata": {},
   "outputs": [],
   "source": [
    "model = CNN(conv_layers=[8, 2], kernel_size=4, fc_neurons=32, use_batchnorm=True)\n",
    "criterion = nn.BCEWithLogitsLoss()\n",
    "optimizer = optim.Adam(model.parameters(), lr=0.001)\n",
    "scheduler = optim.lr_scheduler.StepLR(optimizer, step_size=10, gamma=0.1)\n",
    "train_model(model, criterion, train_loader, validation_loader, optimizer, scheduler, epochs=50)"
   ]
  },
  {
   "cell_type": "code",
   "execution_count": 83,
   "metadata": {},
   "outputs": [],
   "source": [
    "current_input = X_test_tensor[0:1]\n",
    "conv_layer = []\n",
    "feature_maps = []\n",
    "for layer in model.conv:\n",
    "    current_input = layer(current_input)\n",
    "    if isinstance(layer, nn.Conv2d):\n",
    "        conv_layer.append(layer)\n",
    "        feature_maps.append(current_input.detach())\n"
   ]
  },
  {
   "cell_type": "code",
   "execution_count": 85,
   "metadata": {},
   "outputs": [
    {
     "data": {
      "image/png": "[encoded data removed]",
      "text/plain": [
       "<Figure size 800x400 with 8 Axes>"
      ]
     },
     "metadata": {},
     "output_type": "display_data"
    },
    {
     "data": {
      "image/png": "[encoded data removed]",
      "text/plain": [
       "<Figure size 800x400 with 8 Axes>"
      ]
     },
     "metadata": {},
     "output_type": "display_data"
    }
   ],
   "source": [
    "import matplotlib.pyplot as plt\n",
    "\n",
    "def plot_maps(maps, layer_num, map_type, cmap='viridis'):\n",
    "\n",
    "    num_maps = maps.shape[0]\n",
    "    cols = int(num_maps / 2)\n",
    "    rows = 2\n",
    "    fig, axes = plt.subplots(rows, cols, figsize=(cols * 2, rows * 2))\n",
    "    axes = axes.flatten()\n",
    "    \n",
    "    for i in range(num_maps):\n",
    "        ax = axes[i]\n",
    "        ax.imshow(maps[i, :, :], cmap=cmap)\n",
    "        ax.axis('off')\n",
    "        ax.set_title(f'{map_type} {i}')\n",
    "    \n",
    "    fig.suptitle(f'{map_type} Conv Layer {layer_num}')\n",
    "    plt.tight_layout()\n",
    "    plt.show()\n",
    "\n",
    "plot_maps(feature_maps[0][0, :, :, :], layer_num=0, map_type='Feature maps')\n",
    "plot_maps(conv_layer[0].weight.detach()[:, 0, :, :], layer_num=0, map_type='Filter maps', cmap='gray')\n"
   ]
  }
 ],
 "metadata": {
  "kernelspec": {
   "display_name": "coursera",
   "language": "python",
   "name": "python3"
  },
  "language_info": {
   "codemirror_mode": {
    "name": "ipython",
    "version": 3
   },
   "file_extension": ".py",
   "mimetype": "text/x-python",
   "name": "python",
   "nbconvert_exporter": "python",
   "pygments_lexer": "ipython3",
   "version": "3.11.5"
  }
 },
 "nbformat": 4,
 "nbformat_minor": 2
}
