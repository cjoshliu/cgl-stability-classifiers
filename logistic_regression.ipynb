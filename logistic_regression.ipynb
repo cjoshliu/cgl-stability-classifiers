{
 "cells": [
  {
   "cell_type": "code",
   "execution_count": 2,
   "metadata": {},
   "outputs": [],
   "source": [
    "from dataloaders import SKLMatchedPairsCGL\n",
    "import numpy as np\n",
    "from sklearn.linear_model import LogisticRegression\n",
    "from sklearn.metrics import accuracy_score, classification_report, confusion_matrix"
   ]
  },
  {
   "cell_type": "code",
   "execution_count": 4,
   "metadata": {},
   "outputs": [
    {
     "name": "stdout",
     "output_type": "stream",
     "text": [
      "The penalty mode is  l1\n",
      "Logistic Regression Accuracy: 0.73\n",
      "The penalty mode is  l2\n",
      "Logistic Regression Accuracy: 0.73\n",
      "The penalty mode is  elasticnet\n",
      "Logistic Regression Accuracy: 0.73\n",
      "The penalty mode is  None\n",
      "Logistic Regression Accuracy: 0.73\n"
     ]
    }
   ],
   "source": [
    "data = SKLMatchedPairsCGL('data/b_0_c_1_dT_01_t_1e03', 'data/b_0_c_1_dT_01_t_1e04', seed=1234)\n",
    "\n",
    "penalties = ['l1', 'l2', 'elasticnet', None]\n",
    "\n",
    "for penalty in penalties:\n",
    "    clf = LogisticRegression(max_iter = 1000, random_state = data.rng.integers(data.seed))\n",
    "    clf.fit(data.X_train, data.y_train)\n",
    "    y_dev_pred = clf.predict(data.X_dev)\n",
    "    print('The penalty mode is ', penalty)\n",
    "    print(f'Logistic Regression Accuracy: {accuracy_score(data.y_dev, y_dev_pred):.2f}')"
   ]
  },
  {
   "cell_type": "code",
   "execution_count": null,
   "metadata": {},
   "outputs": [],
   "source": []
  }
 ],
 "metadata": {
  "kernelspec": {
   "display_name": "venv",
   "language": "python",
   "name": "python3"
  },
  "language_info": {
   "codemirror_mode": {
    "name": "ipython",
    "version": 3
   },
   "file_extension": ".py",
   "mimetype": "text/x-python",
   "name": "python",
   "nbconvert_exporter": "python",
   "pygments_lexer": "ipython3",
   "version": "3.12.4"
  }
 },
 "nbformat": 4,
 "nbformat_minor": 2
}
