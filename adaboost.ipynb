{
 "cells": [
  {
   "cell_type": "code",
   "execution_count": null,
   "metadata": {},
   "outputs": [],
   "source": [
    "from dataloaders import SKLMatchedPairsCGL\n",
    "from sklearn.ensemble import AdaBoostClassifier\n",
    "from sklearn.tree import DecisionTreeClassifier\n",
    "import numpy as np\n",
    "from tqdm import tqdm\n",
    "from evaluation import evaluate"
   ]
  },
  {
   "cell_type": "code",
   "execution_count": null,
   "metadata": {},
   "outputs": [],
   "source": [
    "data = SKLMatchedPairsCGL('data/b_0_c_1_dT_01_t_1e03', 'data/b_0_c_1_dT_01_t_1e04')"
   ]
  },
  {
   "cell_type": "code",
   "execution_count": null,
   "metadata": {},
   "outputs": [],
   "source": [
    "max_n = 100\n",
    "min_n = 10\n",
    "interval_n = 10\n",
    "estimators = list(range(min_n, max_n + interval_n, interval_n))\n",
    "runs = 10\n",
    "\n",
    "len_estimators = len(estimators)\n",
    "all_accuracy = np.zeros((len_estimators, runs))\n",
    "all_ppv = np.zeros((len_estimators, runs))\n",
    "all_npv = np.zeros((len_estimators, runs))\n",
    "all_sensitivity = np.zeros((len_estimators, runs))\n",
    "all_specificity = np.zeros((len_estimators, runs))\n",
    "all_f = np.zeros((len_estimators, runs))\n",
    "\n",
    "for i, current_n_estimators in enumerate(estimators):\n",
    "    for random_state in tqdm(range(runs), desc='n_estimators = {}'.format(current_n_estimators)):\n",
    "        clf = AdaBoostClassifier(n_estimators = current_n_estimators, algorithm = 'SAMME',\n",
    "                                     random_state=random_state)\n",
    "        clf.fit(data.X_train, data.y_train)\n",
    "        predict = clf.predict(data.X_dev)\n",
    "        eval_metrics = evaluate(predict, data.y_dev)\n",
    "        \n",
    "        all_accuracy[i, random_state] = eval_metrics['accuracy']\n",
    "        all_ppv[i, random_state] = eval_metrics['PPV']\n",
    "        all_npv[i, random_state] = eval_metrics['NPV']\n",
    "        all_sensitivity[i, random_state] = eval_metrics['sensitivity']\n",
    "        all_specificity[i, random_state] = eval_metrics['specificity']\n",
    "        all_f[i, random_state] = eval_metrics['F-score']"
   ]
  }
 ],
 "metadata": {
  "kernelspec": {
   "display_name": "venv",
   "language": "python",
   "name": "python3"
  },
  "language_info": {
   "name": "python",
   "version": "3.12.4"
  }
 },
 "nbformat": 4,
 "nbformat_minor": 2
}
